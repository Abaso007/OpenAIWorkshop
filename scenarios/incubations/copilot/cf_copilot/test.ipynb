{
 "cells": [
  {
   "cell_type": "code",
   "execution_count": null,
   "metadata": {},
   "outputs": [],
   "source": [
    "import openai\n",
    "import os\n",
    "from pathlib import Path  \n",
    "import json\n",
    "import os \n",
    "from pprint import pprint\n",
    "import requests\n",
    "from azure.search.documents.models import Vector  \n",
    "import uuid\n",
    "from tenacity import retry, wait_random_exponential, stop_after_attempt  \n",
    "\n",
    "from dotenv import load_dotenv\n",
    "from azure.core.credentials import AzureKeyCredential  \n",
    "from azure.search.documents import SearchClient  \n",
    "from openai.embeddings_utils import get_embedding, cosine_similarity\n",
    "import inspect\n",
    "env_path = Path('.') / 'secrets.env'\n",
    "load_dotenv(dotenv_path=env_path)"
   ]
  },
  {
   "cell_type": "code",
   "execution_count": null,
   "metadata": {},
   "outputs": [],
   "source": [
    "from langchain.utilities import BingSearchAPIWrapper\n",
    "\n",
    "def search_knowledgebase(search_query, k=5):\n",
    "    \"\"\"\n",
    "    Searches the knowledge base for an answer to the question.\n",
    "\n",
    "    Args:\n",
    "        search_query (str): The search query to use to search the knowledge base.\n",
    "\n",
    "    Returns:\n",
    "        str: The answer to the question.\n",
    "    \"\"\"\n",
    "\n",
    "    # Add your Bing Search V7 subscription key and endpoint to your environment variables.\n",
    "    search = BingSearchAPIWrapper(k=k)\n",
    "\n",
    "    #limit to docs.confluent.io\n",
    "    search_query = search_query +\" site:docs.confluent.io\"\n",
    "\n",
    "    return search.run(search_query)\n"
   ]
  },
  {
   "cell_type": "code",
   "execution_count": null,
   "metadata": {},
   "outputs": [],
   "source": [
    "query = \"how to query the list of clusters in confluent cloud\" \n",
    "\n",
    "search_knowledgebase(query)"
   ]
  },
  {
   "cell_type": "code",
   "execution_count": null,
   "metadata": {},
   "outputs": [],
   "source": [
    "import base64\n",
    "def execute_graphql(graphql_query):\n",
    "    \"\"\"\n",
    "    Execute a graphql query on customer's environment\n",
    "\n",
    "    Args:\n",
    "        graphql_query (str): syntactically valid graphql query to retrieve information from customer's environment\n",
    "\n",
    "    Returns:\n",
    "        str: The result of the graphql query.\n",
    "    \"\"\"\n",
    "\n",
    "    api_key = os.getenv(\"CF_API_KEY\")\n",
    "    api_secret = os.getenv(\"CF_API_SECRET\")\n",
    "    graphql_endpoint = os.getenv(\"CF_GRAPHQL_ENDPOINT\")\n",
    "\n",
    "    # Concatenate the API key and secret and encode them in Base64\n",
    "    credentials = f\"{api_key}:{api_secret}\"\n",
    "    encoded_credentials = base64.b64encode(credentials.encode('utf-8')).decode('utf-8')\n",
    "    print(encoded_credentials)\n",
    "    # Set up the headers with the encoded credentials\n",
    "    headers = {\n",
    "        'Content-Type': 'application/json',\n",
    "        'Authorization': f'Basic {encoded_credentials}'\n",
    "    }\n",
    "\n",
    "    # Perform the HTTP POST request\n",
    "    response = requests.post(graphql_endpoint, headers=headers, json={'query': graphql_query})\n",
    "\n",
    "    # Check if the request was successful\n",
    "    if response.status_code == 200:\n",
    "        # Parse the JSON response\n",
    "        result = response.json()\n",
    "        return result\n",
    "    else:\n",
    "        return f\"Request failed with status code {response.status_code}: {response.text}\"\n"
   ]
  },
  {
   "cell_type": "code",
   "execution_count": null,
   "metadata": {},
   "outputs": [],
   "source": [
    "graphql_query = \"\"\"{\n",
    "  __schema {\n",
    "    queryType {\n",
    "      fields {\n",
    "        name\n",
    "        description\n",
    "        \n",
    "      }\n",
    "    }\n",
    "  }\n",
    "}\n",
    "\"\"\"\n",
    "execute_graphql(graphql_query)"
   ]
  },
  {
   "cell_type": "code",
   "execution_count": null,
   "metadata": {},
   "outputs": [],
   "source": [
    "def get_schema(graphql_type):\n",
    "    \"\"\"\n",
    "    Retrieve detail schema of a graphql type\n",
    "\n",
    "    Args:\n",
    "        graphql_type (str): name of the graphql type to retrieve schema\n",
    "\n",
    "    Returns:\n",
    "        str: The schema of the graphql type.\n",
    "    \"\"\"\n",
    "\n",
    "    graph_query = f\"\"\"\n",
    "{{\n",
    "  __type(name: \"{graphql_type}\") {{\n",
    "    name\n",
    "    kind\n",
    "    description\n",
    "    fields {{\n",
    "      name\n",
    "      description\n",
    "      type {{\n",
    "        name\n",
    "        kind\n",
    "      }}\n",
    "    }}\n",
    "  }}\n",
    "}}\n",
    "\"\"\"\n",
    "    return execute_graphql(graph_query)\n"
   ]
  },
  {
   "cell_type": "code",
   "execution_count": null,
   "metadata": {},
   "outputs": [],
   "source": [
    "graphql_type= \"kafka_topic\"\n",
    "get_schema(graphql_type)"
   ]
  }
 ],
 "metadata": {
  "kernelspec": {
   "display_name": "llm",
   "language": "python",
   "name": "python3"
  },
  "language_info": {
   "codemirror_mode": {
    "name": "ipython",
    "version": 3
   },
   "file_extension": ".py",
   "mimetype": "text/x-python",
   "name": "python",
   "nbconvert_exporter": "python",
   "pygments_lexer": "ipython3",
   "version": "3.10.12"
  }
 },
 "nbformat": 4,
 "nbformat_minor": 2
}
