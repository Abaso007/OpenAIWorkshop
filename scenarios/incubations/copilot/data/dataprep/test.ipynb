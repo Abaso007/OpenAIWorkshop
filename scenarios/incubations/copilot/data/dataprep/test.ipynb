{
 "cells": [
  {
   "cell_type": "code",
   "execution_count": 3,
   "metadata": {},
   "outputs": [],
   "source": [
    "import os\n",
    "import openai\n",
    "from azure.identity import DefaultAzureCredential\n",
    "from azure.core.credentials import AzureKeyCredential  \n",
    "from azure.search.documents.models import Vector  \n",
    "\n",
    "from azure.search.documents import SearchClient\n",
    "from azure.search.documents.models import QueryType\n",
    "\n",
    "# Replace these with your own values, either in environment variables or directly here\n",
    "AZURE_STORAGE_ACCOUNT = os.environ.get(\"AZURE_STORAGE_ACCOUNT\") or \"sttyf3apvjit5gg\"\n",
    "AZURE_STORAGE_CONTAINER = os.environ.get(\"AZURE_STORAGE_CONTAINER\") or \"content\"\n",
    "AZURE_SEARCH_SERVICE = os.environ.get(\"AZURE_SEARCH_SERVICE\") or \"cogsearch001\"\n",
    "AZURE_SEARCH_INDEX = os.environ.get(\"AZURE_SEARCH_INDEX\") or \"gptkb-tyf3apvjit5gg\"\n",
    "AZURE_OPENAI_SERVICE = os.environ.get(\"AZURE_OPENAI_SERVICE\") or \"openai002\"\n",
    "AZURE_OPENAI_GPT_DEPLOYMENT = os.environ.get(\"AZURE_OPENAI_GPT_DEPLOYMENT\") or \"davinci\"\n",
    "AZURE_OPENAI_CHATGPT_DEPLOYMENT = os.environ.get(\"AZURE_OPENAI_CHATGPT_DEPLOYMENT\") or \"gpt-35-turbo\"\n",
    "AZURE_OPENAI_CHATGPT_MODEL = os.environ.get(\"AZURE_OPENAI_CHATGPT_MODEL\") or \"gpt-35-turbo\"\n",
    "AZURE_OPENAI_EMB_DEPLOYMENT = os.environ.get(\"AZURE_OPENAI_EMB_DEPLOYMENT\") or \"text-embedding-ada-002\"\n",
    "AZURE_SEARCH_ADMIN_KEY=\"2HwNw2JAmUjp8lYFfiiIMeIFTPye8rHHq9ZYu3hc9YAzSeA9Vl5L\"\n",
    "KB_FIELDS_CONTENT = os.environ.get(\"KB_FIELDS_CONTENT\") or \"content\"\n",
    "KB_FIELDS_CATEGORY = os.environ.get(\"KB_FIELDS_CATEGORY\") or \"category\"\n",
    "KB_FIELDS_SOURCEPAGE = os.environ.get(\"KB_FIELDS_SOURCEPAGE\") or \"sourcepage\"\n",
    "\n",
    "# Use the current user identity to authenticate with Azure OpenAI, Cognitive Search and Blob Storage (no secrets needed, \n",
    "# just use 'az login' locally, and managed identity when deployed on Azure). If you need to use keys, use separate AzureKeyCredential instances with the \n",
    "# keys for each service\n",
    "azure_credential = DefaultAzureCredential(exclude_shared_token_cache_credential = True)\n",
    "search_credential = AzureKeyCredential(AZURE_SEARCH_ADMIN_KEY)\n",
    "# Used by the OpenAI SDK\n",
    "openai.api_base = f\"https://{AZURE_OPENAI_SERVICE}.openai.azure.com\"\n",
    "openai.api_version = \"2023-05-15\"\n",
    "\n",
    "# Comment these two lines out if using keys, set your API key in the OPENAI_API_KEY environment variable and set openai.api_type = \"azure\" instead\n",
    "openai.api_type = \"azure_ad\"\n",
    "openai.api_key = azure_credential.get_token(\"https://cognitiveservices.azure.com/.default\").token\n",
    "\n",
    "# Set up clients for Cognitive Search and Storage\n",
    "search_client = SearchClient(\n",
    "    endpoint=f\"https://{AZURE_SEARCH_SERVICE}.search.windows.net\",\n",
    "    index_name=AZURE_SEARCH_INDEX,\n",
    "    credential=search_credential)\n"
   ]
  },
  {
   "cell_type": "code",
   "execution_count": 13,
   "metadata": {},
   "outputs": [
    {
     "name": "stdout",
     "output_type": "stream",
     "text": [
      "Northwind_Health_Plus_Benefits_Details-23.pdf:  This coverage includes medically necessary services for the relief of pain resulting from dental injury, as well as services for the administration of anesthesia in a facility. This coverage is subject to any limitations, copayments, and/or deductibles that are set forth in the plan.In order for services to be eligible for coverage, they must be performed by a dental professional who is licensed to practice dentistry in the state in which the services are provided. All services must be for the relief of pain resulting from dental injury, or for the administration of anesthesia in a facility.Dental InjuryNorthwind Health Plus covers medically necessary services for the relief of pain resulting from dental injury. This includes services such as extractions, fillings, root canals, and other services that are necessary to relieve pain caused by dental injury.Facility Anesthesia Northwind Health Plus covers services related to the administration of anesthesia in a facility. This includes, but is not limited to, services such as spinals, epidurals, and general anesthetics.\n",
      "Northwind_Health_Plus_Benefits_Details-89.pdf: Under the ACA, Northwind Health Plus must provide essential health benefits, such as ambulatory patient services, hospitalization, maternity and newborn care, preventive and wellness services, mental health and substance abuse services, and prescription drugs. The plan also must provide coverage for preventive services without cost sharing.Under MHPAEA, the plan must provide comparable benefits for mental health and substance abuse services as it does for medical and surgical benefits. This includes covering services that are medically necessary, such as inpatient and outpatient services, medication management, and psychological and psychosocial therapies.It is important to note that the plan may not provide coverage or impose any limits or exclusions that are not in compliance with applicable laws and regulations. Additionally, the plan may not discriminate against individuals based on their medical condition or health status. Individuals who feel they have been discriminated against should contact the Department of Labor, who can investigate the issue.\n",
      "Northwind_Health_Plus_Benefits_Details-24.pdf:  This includes, but is not limited to, services such as spinals, epidurals, and general anesthetics.ExceptionsNorthwind Health Plus does not cover the following services when related to dental injury or facility anesthesia:· Cosmetic procedures, such as teeth whitening or veneers· Services that are not medically necessary to relieve pain resulting from dental injury· Services provided outside of a facilityTips for Employees· Make sure that your dentist is licensed to practice in your state· Check your plan to make sure that the full cost of services is covered· Ask your dentist about any additional costs that may not be covered by your plan· Have a list of any medications or allergies that may affect the anesthesia. Make sure that the dentist is aware of any medical conditions that might increase the risk of complications· Ask your dentist about any special instructions that you may need to follow before or after the procedure. Make sure that you understand the risks and benefits of the procedure· Ask your dentist about any follow-up care that may be needed after the \n",
      "\n",
      "-------------------\n",
      "\n",
      "{'role': 'system', 'content': \"Assistant helps the company employees with their healthcare plan questions, and questions about the employee handbook. Be brief in your answers.\\nAnswer ONLY with the facts listed in the list of sources below. If there isn't enough information below, say you don't know. Do not generate answers that don't use the sources below. If asking a clarifying question to the user would help, ask the question.\\nEach source has a name followed by colon and the actual information, always include the source name for each fact you use in the response. Use square brackets to reference the source, e.g. [info1.txt]. Don't combine sources, list each source separately, e.g. [info1.txt][info2.pdf].\\n\"}\n",
      "{'role': 'user', 'content': 'Does it cover dental?'}\n",
      "{'role': 'assistant', 'content': 'Yes, both Northwind Health Plus and Northwind Standard plans offer coverage for dental services [Benefit_Options-2.pdf][Northwind_Health_Plus_Benefits_Details-15.pdf].'}\n",
      "{'role': 'user', 'content': 'Does it cover dental?'}\n",
      "{'role': 'assistant', 'content': 'Yes, Northwind Health Plus also covers dental services for the relief of pain resulting from dental injury, such as extractions, fillings, root canals, and other services that are necessary to relieve pain caused by dental injury. It also covers services related to the administration of anesthesia in a facility, including spinals, epidurals, and general anesthetics, subject to any limitations, copayments, and/or deductibles that are set forth in the plan. However, it does not cover cosmetic procedures, such as teeth whitening or veneers, or services that are not medically necessary to relieve pain resulting from dental injury [Northwind_Health_Plus_Benefits_Details-23.pdf][Northwind_Health_Plus_Benefits_Details-24.pdf].'}\n",
      "{'role': 'user', 'content': 'Does it cover dental?'}\n",
      "{'role': 'assistant', 'content': 'Yes, Northwind Health Plus covers medically necessary dental services for the relief of pain resulting from dental injury and services related to the administration of anesthesia in a facility, subject to any limitations, copayments, and/or deductibles that are set forth in the plan. This coverage includes services such as extractions, fillings, root canals, and other services that are necessary to relieve pain caused by dental injury. However, it does not cover cosmetic procedures, such as teeth whitening or veneers, or services that are not medically necessary to relieve pain resulting from dental injury [Northwind_Health_Plus_Benefits_Details-23.pdf].'}\n"
     ]
    }
   ],
   "source": [
    "# Execute this cell multiple times updating user_input to accumulate chat history\n",
    "user_input = \"Does it cover dental?\"\n",
    "\n",
    "# Exclude category, to simulate scenarios where there's a set of docs you can't see\n",
    "exclude_category = None\n",
    "\n",
    "\n",
    "# Use Azure OpenAI to compute an embedding for the query\n",
    "query_vector = openai.Embedding.create(engine=AZURE_OPENAI_EMB_DEPLOYMENT, input=search)[\"data\"][0][\"embedding\"]\n",
    "\n",
    "# Alternatively simply use the following if not using reranking with semantic search:\n",
    "# search_client.search(search, \n",
    "#                      top=3, \n",
    "#                      vector=query_vector if query_vector else None, \n",
    "#                      top_k=50 if query_vector else None, \n",
    "#                      vector_fields=\"embedding\" if query_vector else None)\n",
    "\n",
    "filter = \"category ne '{}'\".format(exclude_category.replace(\"'\", \"''\")) if exclude_category else None\n",
    "\n",
    "vector = Vector(value=query_vector, k=3, fields=\"embedding\")\n",
    "\n",
    "r = search_client.search(None, \n",
    "                         filter=filter,\n",
    "                         top=3,\n",
    "                         vectors=[vector], \n",
    ")\n",
    "results = [doc[KB_FIELDS_SOURCEPAGE] + \": \" + doc[KB_FIELDS_CONTENT].replace(\"\\n\", \"\").replace(\"\\r\", \"\") for doc in r]\n",
    "content = \"\\n\".join(results)\n",
    "print(content)\n",
    "user_content = user_input + \" \\nSOURCES:\\n\" + content\n",
    "\n",
    "chat_conversations.append({\"role\": USER, \"content\": user_content })\n",
    "\n",
    "chat_completion = openai.ChatCompletion.create(\n",
    "    deployment_id=AZURE_OPENAI_CHATGPT_DEPLOYMENT,\n",
    "    model=AZURE_OPENAI_CHATGPT_MODEL,\n",
    "    messages=chat_conversations, \n",
    "    temperature=0.7, \n",
    "    max_tokens=1024, \n",
    "    n=1)\n",
    "chat_content = chat_completion.choices[0].message.content\n",
    "'''\n",
    "reset user content to avoid sources in conversation history\n",
    "add source as a single shot in query conversation\n",
    "'''\n",
    "chat_conversations[-1][\"content\"] = user_input\n",
    "chat_conversations.append({\"role\":ASSISTANT, \"content\": chat_content})\n",
    "\n",
    "print(\"\\n-------------------\\n\")\n",
    "for conversation in chat_conversations:\n",
    "    print(conversation)"
   ]
  },
  {
   "cell_type": "code",
   "execution_count": 35,
   "metadata": {},
   "outputs": [],
   "source": [
    "search_client = SearchClient(\n",
    "    endpoint=f\"https://{AZURE_SEARCH_SERVICE}.search.windows.net\",\n",
    "    index_name=\"payroll_hr\",\n",
    "    credential=search_credential)\n"
   ]
  },
  {
   "cell_type": "code",
   "execution_count": null,
   "metadata": {},
   "outputs": [],
   "source": [
    "r = search_client.search(search, \n",
    "                         filter=filter,\n",
    "                         query_type=QueryType.SEMANTIC, \n",
    "                         query_language=\"en-us\", \n",
    "                         query_speller=\"lexicon\", \n",
    "                         semantic_configuration_name=\"default\", \n",
    "                         top=3,\n",
    "                         vectors=[query_vector] if query_vector else None, \n",
    "                         top_k=50 if query_vector else None, \n",
    "                         vector_fields=\"embedding\" if query_vector else None)\n"
   ]
  },
  {
   "cell_type": "code",
   "execution_count": null,
   "metadata": {},
   "outputs": [],
   "source": [
    "results = [doc[KB_FIELDS_SOURCEPAGE] + \": \" + doc[KB_FIELDS_CONTENT].replace(\"\\n\", \"\").replace(\"\\r\", \"\") for doc in r]\n"
   ]
  },
  {
   "cell_type": "code",
   "execution_count": 28,
   "metadata": {},
   "outputs": [],
   "source": [
    "\n",
    "vector = Vector(value=query_vector, k=3, fields=\"contentVector\")\n",
    "  \n"
   ]
  },
  {
   "cell_type": "code",
   "execution_count": 36,
   "metadata": {},
   "outputs": [
    {
     "data": {
      "text/plain": [
       "\"article_15\\n16. ADP HR: Understanding Your Health Insurance Options \\n\\nTitle: ADP HR: Understanding Your Health Insurance Options\\n\\nAs an employee with payroll managed by ADP, you have access to a range of health insurance options that are designed to suit your needs and budget. If you’re new to the world of health insurance or just want to refresh your knowledge, this guide will help you understand your options and make an informed decision about your health care coverage.\\n\\n1. Know Your Options\\n\\nThe first step in understanding your health insurance options is to know what’s available. ADP offers several health insurance plans, ranging from basic coverage to comprehensive plans with additional benefits. These plans include PPOs, HMOs, HDHPs, and more. Each of these types of plans has different features, costs, and restrictions, so it’s important to understand your options before making a decision.\\n\\n2. Consider Your Needs\\n\\nWhen selecting a health insurance plan, consider your individual needs. Factors to consider include whether you have family members who need coverage, whether you have a chronic condition that requires regular medical attention, and whether you need prescription drug coverage. Review the plan details for each option before making a decision.\\n\\n3. Compare Costs\\n\\nOne of the most significant factors when choosing a health insurance plan is the cost. Consider not only the monthly premium but also the deductible, co-payments, and out-of-pocket expenses. Remember that a plan with a lower premium may come with higher deductibles and out-of-pocket costs, while a plan with higher premiums may have lower costs for medical services.\\n\\n4. Look for In-Network Providers\\n\\nPPO and HMO plans typically have in-network providers, meaning you’ll pay less for care if you go to a doctor, clinic or hospital within the provider’s network. Out-of-network providers may result in higher co-pays or out-of-pocket expenses, so it’s important to know which providers are in your plan’s network before seeking care.\\n\\n5. Utilize Additional Benefits\\n\\nMany health insurance plans offered through ADP come with additional benefits that can help you save money on medical expenses, such as wellness programs or discounts on complementary services like chiropractic care or acupuncture. Some plans also include telemedicine options or virtual appointments, which can be convenient and save time.\\n\\nIn Conclusion\\n\\nUnderstanding your health insurance options as an ADP employee is crucial to making informed decisions about your health care coverage. Be sure to review the details, consider your individual needs, compare costs, look for in-network providers, and make use of additional benefits. With this information in mind, you can find the right health insurance plan to fit your needs and budget.\\narticle_13\\n14. ADP HR: A Guide to Employee Benefits \\n\\nIntroduction:\\n\\nEmployee benefits are an essential part of the employee compensation package, and they play a crucial role in attracting, retaining and motivating employees. As a leading payroll and benefits management company, ADP offers a range of HR services, including employee benefits. In this article, we'll provide a guide to employee benefits offered by ADP.\\n\\n1. Health & Wellness Benefits:\\n\\nADP offers a comprehensive range of health and wellness benefits for their employees, including medical, dental, vision and employee assistance programs. These benefits are designed to help employees stay healthy and productive while reducing their out-of-pocket expenses. ADP provides different types of medical plans with varying coverage levels, including PPO, HMO, and HDHP. They also offer wellness programs that focus on disease prevention and management, fitness, and nutrition.\\n\\n2. Retirement Benefits:\\n\\nADP provides employees with retirement benefits via its 401(k) plan. Employees are eligible to participate in the plan after meeting specific requirements such as working for ADP for at least 6 months. ADP also offers various investment options, including mutual funds, target-date funds, and exchange-traded funds (ETFs).\\n\\n3. Time Off Benefits:\\n\\nADP provides time off benefit programs to their employees to help them manage their work-life balance. These benefits include paid time off for vacation, personal days, sick leave, and holidays. The company also offers paid bereavement, military and jury duty leave.\\n\\n4. Volunteer & Charitable Giving Benefits:\\n\\nADP encourages its employees to give back to the community and offers programs that support charitable giving and volunteering. They sponsor various volunteer events throughout the year, offering its employees the opportunity to participate in team-based volunteer projects.\\n\\n5. Flexible Spending Accounts:\\n\\nADP provides employees with Flexible Spending Accounts (FSAs) for health care, dependent care, and transit expenses, allowing them to save money on eligible expenses.\\n\\n6. Employee Discounts:\\n\\nADP provides employees with exclusive discounts on various products and services ranging from travel to entertainment, electronics, shopping, and more. These discounts are available to employees and their families.\\n\\n7. Education Assistance:\\n\\nADP supports its employees' development by offering education assistance, providing tuition reimbursement and other support for eligible courses.\\n\\nConclusion:\\n\\nADP's employee benefits package is designed to provide a comprehensive range of services to support employee well-being and engagement. Understanding the benefits that ADP provides is crucial for employees to make informed decisions and take full advantage of the programs that are available to them. As an employee of ADP, you can feel confident that your employer invests in your overall well-being and success.\\narticle_16\\n17. Understanding Your Retirement Plan with ADP \\n\\nAs an employee with payroll managed by ADP, it's important to have a clear understanding of your retirement plan so that you can make informed decisions about your financial future. In this article, we'll go over the basics of retirement plans and how they work with ADP.\\n\\nWhat is a retirement plan?\\nA retirement plan is a savings plan designed to provide income during retirement. Retirement plans can be sponsored by your employer or set up individually, and they are typically tax-advantaged, which means you can contribute pre-tax dollars to the plan, which lowers your taxable income. There are several types of retirement plans, and they differ by things like who can contribute, how much you can contribute, and how the money is invested.\\n\\nHow does ADP help manage retirement plans?\\nADP offers a wide range of retirement plan options, including 401(k) plans, profit-sharing plans, and defined benefit pension plans. Your employer will work with ADP to set up and manage your retirement plan. ADP provides essential services such as recordkeeping, plan administration, investment management, and communication with plan participants. As an employee, you'll have access to your retirement plan account through ADP's online portal, where you can track your contributions, investment performance, and other important account details.\\n\\nWhat are the benefits of a retirement plan?\\nRetirement plans offer many benefits, including:\\n\\n1. Tax Savings - Retirement plans offer valuable tax benefits, which can help you reduce your taxable income and save money on taxes.\\n\\n2. Employer Contributions - Many employers offer matching contributions, where they match a percentage of your contributions up to a certain amount.\\n\\n3. Investment Options - Retirement plans typically offer a range of investment options, giving you the flexibility to choose investments that match your risk tolerance and retirement goals.\\n\\n4. Compound Interest - Over time, your retirement savings can grow through compound interest, which means you earn interest on your contributions and on the interest that has already accrued.\\n\\n5. Retirement Income - Finally, retirement plans provide a source of income during your retirement years, which can help you maintain your standard of living and cover your essential expenses.\\n\\nHow do I get started with my retirement plan?\\nIf you're not already enrolled in your company's retirement plan, you should speak with your HR representative or manager to learn about your options. Once you're enrolled, you can log in to ADP's online portal to manage your account, contribute to your plan, and track your progress.\\n\\nIn conclusion, understanding your retirement plan with ADP is key to planning for your financial future. Retirement plans offer many benefits, and ADP can help you manage your plan and make informed decisions about your investments. If you have any questions or concerns, don’t hesitate to contact ADP’s customer support team for assistance.\\n\""
      ]
     },
     "execution_count": 36,
     "metadata": {},
     "output_type": "execute_result"
    }
   ],
   "source": [
    "results = search_client.search(  \n",
    "    search_text=None,  \n",
    "    vectors= [vector],\n",
    "    select=[\"id\", \"content\"],\n",
    ")  \n",
    "text_content =\"\"\n",
    "for result in results:  \n",
    "    text_content += f\"{result['id']}\\n{result['content']}\\n\"\n",
    "text_content"
   ]
  },
  {
   "cell_type": "code",
   "execution_count": null,
   "metadata": {},
   "outputs": [],
   "source": [
    "results = [doc[KB_FIELDS_SOURCEPAGE] + \": \" + doc[KB_FIELDS_CONTENT].replace(\"\\n\", \"\").replace(\"\\r\", \"\") for doc in r]\n",
    "content = \"\\n\".join(results)\n"
   ]
  },
  {
   "cell_type": "code",
   "execution_count": null,
   "metadata": {},
   "outputs": [],
   "source": []
  }
 ],
 "metadata": {
  "kernelspec": {
   "display_name": "llm",
   "language": "python",
   "name": "python3"
  },
  "language_info": {
   "codemirror_mode": {
    "name": "ipython",
    "version": 3
   },
   "file_extension": ".py",
   "mimetype": "text/x-python",
   "name": "python",
   "nbconvert_exporter": "python",
   "pygments_lexer": "ipython3",
   "version": "3.10.12"
  },
  "orig_nbformat": 4
 },
 "nbformat": 4,
 "nbformat_minor": 2
}
