{
 "cells": [
  {
   "cell_type": "code",
   "execution_count": 26,
   "metadata": {},
   "outputs": [
    {
     "name": "stderr",
     "output_type": "stream",
     "text": [
      "C:\\Users\\janguy\\AppData\\Local\\Temp\\ipykernel_12056\\2278012642.py:6: MovedIn20Warning: The ``declarative_base()`` function is now available as sqlalchemy.orm.declarative_base(). (deprecated since: 2.0) (Background on SQLAlchemy 2.0 at: https://sqlalche.me/e/b8d9)\n",
      "  Base = declarative_base()\n"
     ]
    }
   ],
   "source": [
    "from sqlalchemy import create_engine, Column, Integer, String, DateTime, ForeignKey\n",
    "from sqlalchemy.ext.declarative import declarative_base\n",
    "from sqlalchemy.orm import sessionmaker, relationship\n",
    "from datetime import datetime\n",
    "\n",
    "Base = declarative_base()\n",
    "\n",
    "class Customer(Base):\n",
    "    __tablename__ = 'customers'\n",
    "    id = Column(String, primary_key=True)\n",
    "    name = Column(String)\n",
    "    flights = relationship('Flight', backref='customer')\n",
    "\n",
    "class Flight(Base):\n",
    "    __tablename__ = 'flights'\n",
    "    id = Column(Integer, primary_key=True, autoincrement=True)\n",
    "    customer_id = Column(String, ForeignKey('customers.id'))\n",
    "    ticket_num = Column(String)\n",
    "    flight_num = Column(String)\n",
    "    airline = Column(String)\n",
    "    seat_num = Column(String)\n",
    "    departure_airport = Column(String)\n",
    "    arrival_airport = Column(String)\n",
    "    departure_time = Column(DateTime)\n",
    "    arrival_time = Column(DateTime)\n",
    "    ticket_class = Column(String)\n",
    "    gate = Column(String)\n",
    "    status = Column(String)\n",
    "\n",
    "engine = create_engine('sqlite:///data/flight_db.db')\n",
    "Base.metadata.create_all(engine)\n",
    "Session = sessionmaker(bind=engine)\n",
    "session = Session()\n"
   ]
  },
  {
   "cell_type": "code",
   "execution_count": null,
   "metadata": {},
   "outputs": [],
   "source": [
    "\n",
    "# Insert initial customer data\n",
    "customer = Customer(id=\"12345\", name=\"John Doe\")\n",
    "session.add(customer)\n",
    "session.commit()\n"
   ]
  },
  {
   "cell_type": "code",
   "execution_count": 32,
   "metadata": {},
   "outputs": [
    {
     "name": "stdout",
     "output_type": "stream",
     "text": [
      "Initial flight data has been inserted for customer John Doe.\n"
     ]
    }
   ],
   "source": [
    "\n",
    "# Insert initial flight data for the customer\n",
    "initial_flights = [\n",
    "    Flight(\n",
    "        customer_id=\"12345\",\n",
    "        ticket_num=\"t00113\",\n",
    "        flight_num=\"AB123\",\n",
    "        airline=\"American Airlines\",\n",
    "        seat_num=\"12A\",\n",
    "        departure_airport=\"Airport A\",\n",
    "        arrival_airport=\"Airport B\",\n",
    "        departure_time=datetime(2023, 7, 1, 15, 30),\n",
    "        arrival_time=datetime(2023, 7, 1, 18, 45),\n",
    "        ticket_class=\"Economy\",\n",
    "        gate=\"G5\",\n",
    "        status=\"open\"\n",
    "    ),\n",
    "    # Add more flights if needed\n",
    "]\n",
    "\n",
    "session.add_all(initial_flights)  \n",
    "session.commit()  \n",
    "  \n",
    "print(\"Initial flight data has been inserted for customer John Doe.\")  "
   ]
  },
  {
   "cell_type": "code",
   "execution_count": null,
   "metadata": {},
   "outputs": [],
   "source": []
  },
  {
   "cell_type": "code",
   "execution_count": 31,
   "metadata": {},
   "outputs": [
    {
     "name": "stdout",
     "output_type": "stream",
     "text": [
      "user_id 12345\n"
     ]
    },
    {
     "data": {
      "text/plain": [
       "'Sorry, we cannot find any flight information for you.'"
      ]
     },
     "execution_count": 31,
     "metadata": {},
     "output_type": "execute_result"
    }
   ],
   "source": [
    "def load_user_flight_info(user_id):\n",
    "    # Load flight information from SQLite using SQLAlchemy\n",
    "    user_id=user_id.strip()\n",
    "    print(\"user_id\", user_id)\n",
    "    matched_flights = session.query(Flight).filter_by(customer_id=user_id, status=\"open\").all()\n",
    "    \n",
    "    flights_info = []\n",
    "    for flight in matched_flights:\n",
    "        flight_info = {\n",
    "            'airline': flight.airline,  # Assuming you have this field in the Flight model.\n",
    "            'flight_num': flight.flight_num,\n",
    "            'seat_num': flight.seat_num,\n",
    "            'departure_airport': flight.departure_airport,\n",
    "            'arrival_airport': flight.arrival_airport,\n",
    "            'departure_time': flight.departure_time.strftime('%Y-%m-%d %H:%M'),\n",
    "            'arrival_time': flight.arrival_time.strftime('%Y-%m-%d %H:%M'),\n",
    "            'ticket_class': flight.ticket_class,\n",
    "            'ticket_num': flight.ticket_num,\n",
    "            'gate': flight.gate,\n",
    "            'status': flight.status\n",
    "        }\n",
    "        flights_info.append(flight_info)\n",
    "\n",
    "    if not flights_info:\n",
    "        return \"Sorry, we cannot find any flight information for you.\"\n",
    "\n",
    "    return str(flights_info)\n",
    "\n",
    "load_user_flight_info(\"12345\")"
   ]
  },
  {
   "cell_type": "code",
   "execution_count": 30,
   "metadata": {},
   "outputs": [
    {
     "ename": "ValueError",
     "evalue": "time data '2023-06-30T22:00:00' does not match format '%Y-%m-%d %H:%M'",
     "output_type": "error",
     "traceback": [
      "\u001b[1;31m---------------------------------------------------------------------------\u001b[0m",
      "\u001b[1;31mValueError\u001b[0m                                Traceback (most recent call last)",
      "Cell \u001b[1;32mIn[30], line 7\u001b[0m\n\u001b[0;32m      4\u001b[0m time_data \u001b[38;5;241m=\u001b[39m \u001b[38;5;124m'\u001b[39m\u001b[38;5;124m2023-06-30T22:00:00\u001b[39m\u001b[38;5;124m'\u001b[39m\n\u001b[0;32m      6\u001b[0m \u001b[38;5;66;03m# Parse the original time data\u001b[39;00m\n\u001b[1;32m----> 7\u001b[0m parsed_time \u001b[38;5;241m=\u001b[39m \u001b[43mdatetime\u001b[49m\u001b[38;5;241;43m.\u001b[39;49m\u001b[43mstrptime\u001b[49m\u001b[43m(\u001b[49m\u001b[43mtime_data\u001b[49m\u001b[43m,\u001b[49m\u001b[43m \u001b[49m\u001b[38;5;124;43m'\u001b[39;49m\u001b[38;5;124;43m%\u001b[39;49m\u001b[38;5;124;43mY-\u001b[39;49m\u001b[38;5;124;43m%\u001b[39;49m\u001b[38;5;124;43mm-\u001b[39;49m\u001b[38;5;132;43;01m%d\u001b[39;49;00m\u001b[38;5;124;43m \u001b[39;49m\u001b[38;5;124;43m%\u001b[39;49m\u001b[38;5;124;43mH:\u001b[39;49m\u001b[38;5;124;43m%\u001b[39;49m\u001b[38;5;124;43mM\u001b[39;49m\u001b[38;5;124;43m'\u001b[39;49m\u001b[43m)\u001b[49m\n\u001b[0;32m      9\u001b[0m \u001b[38;5;66;03m# Format it to the desired format\u001b[39;00m\n\u001b[0;32m     10\u001b[0m formatted_time \u001b[38;5;241m=\u001b[39m parsed_time\u001b[38;5;241m.\u001b[39mstrftime(\u001b[38;5;124m'\u001b[39m\u001b[38;5;124m%\u001b[39m\u001b[38;5;124mY-\u001b[39m\u001b[38;5;124m%\u001b[39m\u001b[38;5;124mm-\u001b[39m\u001b[38;5;132;01m%d\u001b[39;00m\u001b[38;5;124m \u001b[39m\u001b[38;5;124m%\u001b[39m\u001b[38;5;124mH:\u001b[39m\u001b[38;5;124m%\u001b[39m\u001b[38;5;124mM\u001b[39m\u001b[38;5;124m'\u001b[39m)\n",
      "File \u001b[1;32mc:\\Users\\janguy\\AppData\\Local\\miniconda3\\envs\\llm\\lib\\_strptime.py:568\u001b[0m, in \u001b[0;36m_strptime_datetime\u001b[1;34m(cls, data_string, format)\u001b[0m\n\u001b[0;32m    565\u001b[0m \u001b[38;5;28;01mdef\u001b[39;00m \u001b[38;5;21m_strptime_datetime\u001b[39m(\u001b[38;5;28mcls\u001b[39m, data_string, \u001b[38;5;28mformat\u001b[39m\u001b[38;5;241m=\u001b[39m\u001b[38;5;124m\"\u001b[39m\u001b[38;5;132;01m%a\u001b[39;00m\u001b[38;5;124m \u001b[39m\u001b[38;5;124m%\u001b[39m\u001b[38;5;124mb \u001b[39m\u001b[38;5;132;01m%d\u001b[39;00m\u001b[38;5;124m \u001b[39m\u001b[38;5;124m%\u001b[39m\u001b[38;5;124mH:\u001b[39m\u001b[38;5;124m%\u001b[39m\u001b[38;5;124mM:\u001b[39m\u001b[38;5;124m%\u001b[39m\u001b[38;5;124mS \u001b[39m\u001b[38;5;124m%\u001b[39m\u001b[38;5;124mY\u001b[39m\u001b[38;5;124m\"\u001b[39m):\n\u001b[0;32m    566\u001b[0m \u001b[38;5;250m    \u001b[39m\u001b[38;5;124;03m\"\"\"Return a class cls instance based on the input string and the\u001b[39;00m\n\u001b[0;32m    567\u001b[0m \u001b[38;5;124;03m    format string.\"\"\"\u001b[39;00m\n\u001b[1;32m--> 568\u001b[0m     tt, fraction, gmtoff_fraction \u001b[38;5;241m=\u001b[39m \u001b[43m_strptime\u001b[49m\u001b[43m(\u001b[49m\u001b[43mdata_string\u001b[49m\u001b[43m,\u001b[49m\u001b[43m \u001b[49m\u001b[38;5;28;43mformat\u001b[39;49m\u001b[43m)\u001b[49m\n\u001b[0;32m    569\u001b[0m     tzname, gmtoff \u001b[38;5;241m=\u001b[39m tt[\u001b[38;5;241m-\u001b[39m\u001b[38;5;241m2\u001b[39m:]\n\u001b[0;32m    570\u001b[0m     args \u001b[38;5;241m=\u001b[39m tt[:\u001b[38;5;241m6\u001b[39m] \u001b[38;5;241m+\u001b[39m (fraction,)\n",
      "File \u001b[1;32mc:\\Users\\janguy\\AppData\\Local\\miniconda3\\envs\\llm\\lib\\_strptime.py:349\u001b[0m, in \u001b[0;36m_strptime\u001b[1;34m(data_string, format)\u001b[0m\n\u001b[0;32m    347\u001b[0m found \u001b[38;5;241m=\u001b[39m format_regex\u001b[38;5;241m.\u001b[39mmatch(data_string)\n\u001b[0;32m    348\u001b[0m \u001b[38;5;28;01mif\u001b[39;00m \u001b[38;5;129;01mnot\u001b[39;00m found:\n\u001b[1;32m--> 349\u001b[0m     \u001b[38;5;28;01mraise\u001b[39;00m \u001b[38;5;167;01mValueError\u001b[39;00m(\u001b[38;5;124m\"\u001b[39m\u001b[38;5;124mtime data \u001b[39m\u001b[38;5;132;01m%r\u001b[39;00m\u001b[38;5;124m does not match format \u001b[39m\u001b[38;5;132;01m%r\u001b[39;00m\u001b[38;5;124m\"\u001b[39m \u001b[38;5;241m%\u001b[39m\n\u001b[0;32m    350\u001b[0m                      (data_string, \u001b[38;5;28mformat\u001b[39m))\n\u001b[0;32m    351\u001b[0m \u001b[38;5;28;01mif\u001b[39;00m \u001b[38;5;28mlen\u001b[39m(data_string) \u001b[38;5;241m!=\u001b[39m found\u001b[38;5;241m.\u001b[39mend():\n\u001b[0;32m    352\u001b[0m     \u001b[38;5;28;01mraise\u001b[39;00m \u001b[38;5;167;01mValueError\u001b[39;00m(\u001b[38;5;124m\"\u001b[39m\u001b[38;5;124munconverted data remains: \u001b[39m\u001b[38;5;132;01m%s\u001b[39;00m\u001b[38;5;124m\"\u001b[39m \u001b[38;5;241m%\u001b[39m\n\u001b[0;32m    353\u001b[0m                       data_string[found\u001b[38;5;241m.\u001b[39mend():])\n",
      "\u001b[1;31mValueError\u001b[0m: time data '2023-06-30T22:00:00' does not match format '%Y-%m-%d %H:%M'"
     ]
    }
   ],
   "source": [
    "from datetime import datetime\n",
    "\n",
    "# Original time data\n",
    "time_data = '2023-06-30T22:00:00'\n",
    "\n",
    "# Parse the original time data\n",
    "parsed_time = datetime.strptime(time_data, '%Y-%m-%d %H:%M')\n",
    "\n",
    "# Format it to the desired format\n",
    "formatted_time = parsed_time.strftime('%Y-%m-%d %H:%M')\n",
    "\n",
    "print(formatted_time)\n"
   ]
  },
  {
   "cell_type": "code",
   "execution_count": null,
   "metadata": {},
   "outputs": [],
   "source": []
  }
 ],
 "metadata": {
  "kernelspec": {
   "display_name": "llm",
   "language": "python",
   "name": "python3"
  },
  "language_info": {
   "codemirror_mode": {
    "name": "ipython",
    "version": 3
   },
   "file_extension": ".py",
   "mimetype": "text/x-python",
   "name": "python",
   "nbconvert_exporter": "python",
   "pygments_lexer": "ipython3",
   "version": "3.10.12"
  }
 },
 "nbformat": 4,
 "nbformat_minor": 2
}
